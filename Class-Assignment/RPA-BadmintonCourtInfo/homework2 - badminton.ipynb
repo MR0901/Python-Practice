{
 "cells": [
  {
   "cell_type": "code",
   "execution_count": 1,
   "metadata": {},
   "outputs": [],
   "source": [
    "# homework2 - badminton.py\n",
    "# RPA-MTech\n",
    "# 2020.1.25"
   ]
  },
  {
   "cell_type": "code",
   "execution_count": 2,
   "metadata": {},
   "outputs": [],
   "source": [
    "import tagui as t\n",
    "t.init()\n",
    "\n",
    "import math\n",
    "import csv"
   ]
  },
  {
   "cell_type": "markdown",
   "metadata": {},
   "source": [
    "### 1. Goto onePA website"
   ]
  },
  {
   "cell_type": "code",
   "execution_count": 3,
   "metadata": {},
   "outputs": [
    {
     "data": {
      "text/plain": [
       "True"
      ]
     },
     "execution_count": 3,
     "metadata": {},
     "output_type": "execute_result"
    }
   ],
   "source": [
    "t.url('https://www.onepa.sg/')"
   ]
  },
  {
   "cell_type": "markdown",
   "metadata": {},
   "source": [
    "### 2. Click the facilities Tab"
   ]
  },
  {
   "cell_type": "code",
   "execution_count": 4,
   "metadata": {},
   "outputs": [
    {
     "data": {
      "text/plain": [
       "True"
      ]
     },
     "execution_count": 4,
     "metadata": {},
     "output_type": "execute_result"
    }
   ],
   "source": [
    "t.click('//a[@id=\"ui-id-2\"]')"
   ]
  },
  {
   "cell_type": "markdown",
   "metadata": {},
   "source": [
    "### 3. Enter 'badminton' in the field \"Find a Facility\""
   ]
  },
  {
   "cell_type": "code",
   "execution_count": 5,
   "metadata": {},
   "outputs": [
    {
     "data": {
      "text/plain": [
       "True"
      ]
     },
     "execution_count": 5,
     "metadata": {},
     "output_type": "execute_result"
    }
   ],
   "source": [
    "t.type('//input[@id=\"banner_0_txtBoxFac\"]', 'badminton')"
   ]
  },
  {
   "cell_type": "markdown",
   "metadata": {},
   "source": [
    "### 4. Enter date\n",
    "For this homework, please pick the date: 31 Jan 2020"
   ]
  },
  {
   "cell_type": "code",
   "execution_count": 6,
   "metadata": {},
   "outputs": [
    {
     "data": {
      "text/plain": [
       "True"
      ]
     },
     "execution_count": 6,
     "metadata": {},
     "output_type": "execute_result"
    }
   ],
   "source": [
    "t.click('//input[@id=\"banner_0_txtFacilityDate\"]')\n",
    "t.click('//a[.=\"31\"]')"
   ]
  },
  {
   "cell_type": "markdown",
   "metadata": {},
   "source": [
    "### 5. Click the Search Button"
   ]
  },
  {
   "cell_type": "code",
   "execution_count": 7,
   "metadata": {},
   "outputs": [
    {
     "data": {
      "text/plain": [
       "True"
      ]
     },
     "execution_count": 7,
     "metadata": {},
     "output_type": "execute_result"
    }
   ],
   "source": [
    "t.click('//input[@id=\"banner_0_btnFindFac\"]')"
   ]
  },
  {
   "cell_type": "markdown",
   "metadata": {},
   "source": [
    "### 6. Select the List View"
   ]
  },
  {
   "cell_type": "code",
   "execution_count": 8,
   "metadata": {},
   "outputs": [
    {
     "data": {
      "text/plain": [
       "True"
      ]
     },
     "execution_count": 8,
     "metadata": {},
     "output_type": "execute_result"
    }
   ],
   "source": [
    "t.wait(5) # wait for 5 sec for the page to be fully loaded\n",
    "t.click('(//div[starts-with(@class,  \"listViewBtn\")])[1]')"
   ]
  },
  {
   "cell_type": "markdown",
   "metadata": {},
   "source": [
    "### 7. Grab the Location and Price across multiple pages"
   ]
  },
  {
   "cell_type": "code",
   "execution_count": 9,
   "metadata": {},
   "outputs": [
    {
     "name": "stdout",
     "output_type": "stream",
     "text": [
      "Total number of items = 76\n",
      "Items per page = 21\n",
      "Number of pages = 4\n"
     ]
    }
   ],
   "source": [
    "#count the number of pages \n",
    "\n",
    "total_items = int(t.read('//div[@id=\"content_0_pagination\"]/@data-pagination-total-item'))\n",
    "print ('Total number of items = %d' %total_items)\n",
    "\n",
    "item_per_page = int(t.read('//div[@id=\"content_0_pagination\"]/@data-pagination-item-per-page'))\n",
    "print ('Items per page = %d' %item_per_page)\n",
    "\n",
    "page_count = math.ceil(total_items /item_per_page)\n",
    "print ('Number of pages = %d' %page_count)"
   ]
  },
  {
   "cell_type": "code",
   "execution_count": 15,
   "metadata": {},
   "outputs": [
    {
     "name": "stdout",
     "output_type": "stream",
     "text": [
      "[1, 'Hougang CC', 'SGD 6.30']\n",
      "[2, 'Toa Payoh South CC', 'SGD 5.40']\n",
      "[3, 'WHAMPOA CC', 'SGD 10.80']\n",
      "[4, 'JOO CHIAT CC', 'SGD 4.50']\n",
      "[5, 'KAMPONG UBI CC', 'SGD 4.50']\n",
      "[6, 'YEW TEE CC', 'SGD 5.40']\n",
      "[7, 'SIGLAP CC', 'SGD 4.50']\n",
      "[8, 'MACPHERSON CC', 'SGD 5.40']\n",
      "[9, 'EUNOS CC', 'SGD 5.40']\n",
      "[10, 'Hwi Yoh CC', 'SGD 4.50']\n",
      "[11, 'Tiong Bahru CC', 'SGD 5.40']\n",
      "[12, 'Pasir Ris East CC', 'SGD 5.40']\n",
      "[13, 'CHUA CHU KANG CC', 'SGD 5.40']\n",
      "[14, 'Radin Mas CC', 'SGD 6.30']\n",
      "[15, 'LENG KEE CC', 'SGD 10.80']\n",
      "[16, 'KAMPONG GLAM CC', 'SGD 12.60']\n",
      "[17, 'GEK POH VILLE CC', 'SGD 6.30']\n",
      "[18, 'TANJONG PAGAR CC', 'SGD 10.80']\n",
      "[19, 'Marine Parade CC', 'SGD 7.20']\n",
      "[20, 'PAYA LEBAR KOVAN CC', 'SGD 6.30']\n",
      "[21, 'Tanglin CC', 'SGD 7.65']\n",
      "[22, 'Anchorvale CC', 'SGD 5.40']\n",
      "[23, 'HENDERSON CC', 'SGD 4.50']\n",
      "[24, 'BOON LAY CC', 'SGD 5.40']\n",
      "[25, 'YIO CHU KANG CC', 'SGD 2.70']\n",
      "[26, 'BUONA VISTA CC', 'SGD 4.50']\n",
      "[27, 'POTONG PASIR CC', 'SGD 9.00']\n",
      "[28, 'Tampines North CC', 'SGD 5.40']\n",
      "[29, 'BUKIT BATOK CC', 'SGD 7.20']\n",
      "[30, 'JURONG GREEN CC', 'SGD 5.40']\n",
      "[31, 'MARSILING CC', 'SGD 6.30']\n",
      "[32, 'ACE The Place CC', 'SGD 9.00']\n",
      "[33, 'WOODLANDS CC', 'SGD 5.40']\n",
      "[34, 'TOA PAYOH CENTRAL CC', 'SGD 4.50']\n",
      "[35, 'Changi Simei CC', 'SGD 7.20']\n",
      "[36, 'Teck Ghee CC', 'SGD 3.60']\n",
      "[37, 'CHONG PANG CC', 'SGD 4.50']\n",
      "[38, 'Nee Soon East CC', 'SGD 8.10']\n",
      "[39, 'Jalan Besar CC', 'SGD 6.30']\n",
      "[40, 'Bukit Timah CC', 'SGD 4.50']\n",
      "[41, 'Punggol 21 CC', 'SGD 6.30']\n",
      "[42, 'HONG KAH NORTH CC', 'SGD 6.30']\n",
      "[43, 'Pasir Ris Elias CC', 'SGD 12.60']\n",
      "[44, 'Yuhua CC', 'SGD 3.65']\n",
      "[45, 'Pek Kio CC', 'SGD 16.20']\n",
      "[46, 'CAIRNHILL CC', 'SGD 11.70']\n",
      "[47, 'WEST COAST CC', 'SGD 4.50']\n",
      "[48, 'Bukit Merah CC', 'SGD 3.60']\n",
      "[49, 'SENJA-CASHEW CC FACILITIES', 'SGD 5.40']\n",
      "[50, 'WOODLANDS GALAXY CC', 'SGD 6.30']\n",
      "[51, 'TAMPINES CHANGKAT CC', 'SGD 4.50']\n",
      "[52, 'TOA PAYOH EAST CC', 'SGD 4.50']\n",
      "[53, 'NEE SOON SOUTH CC', 'SGD 4.05']\n",
      "[54, 'Tampines West CC', 'Free']\n",
      "[55, 'TAMAN JURONG CC', 'SGD 5.40']\n",
      "[56, 'ZHENGHUA CC', 'SGD 4.50']\n",
      "[57, 'CLEMENTI CC', 'SGD 5.40']\n",
      "[58, 'QUEENSTOWN CC', 'SGD 4.05']\n",
      "[59, 'KALLANG CC', 'SGD 7.20']\n",
      "[60, 'OUR TAMPINES HUB CC', 'SGD 4.14']\n",
      "[61, 'Sembawang CC', 'SGD 5.40']\n",
      "[62, 'Geylang Serai CC', 'SGD 10.80']\n",
      "[63, 'Telok Blangah CC', 'SGD 3.60']\n",
      "[64, 'AYER RAJAH CC', 'SGD 9.00']\n",
      "[65, 'Keat Hong CC', 'SGD 5.40']\n",
      "[66, 'BUKIT PANJANG CC', 'SGD 10.80']\n",
      "[67, 'Jurong Spring CC', 'SGD 5.40']\n",
      "[68, 'KAMPONG KEMBANGAN CC', 'SGD 10.80']\n",
      "[69, 'THOMSON CC', 'SGD 5.40']\n",
      "[70, 'KIM SENG CC', 'SGD 5.40']\n",
      "[71, 'CANBERRA CC', 'SGD 9.00']\n",
      "[72, 'BEDOK CC', 'SGD 2.70']\n",
      "[73, 'Braddell Heights CC', 'SGD 9.00']\n",
      "[74, 'THE FRONTIER CC', 'SGD 5.40']\n",
      "[75, 'KEBUN BARU CC', 'SGD 8.10']\n",
      "[76, 'Nanyang CC', 'SGD 4.50']\n",
      "no more items\n"
     ]
    }
   ],
   "source": [
    "#get the location and price\n",
    "#code run on 30 Jan 2020 \n",
    "\n",
    "with open('badminton.csv', 'w', newline='') as file: #create csv file \n",
    "    writer = csv.writer(file,delimiter=',')\n",
    "    writer.writerow([\"Sno\", \"Location\",\"Price\"]) #create header\n",
    "    \n",
    "    for i in range(1,page_count+1):\n",
    "        for j in range(1, item_per_page + 1):\n",
    "            d_temp = []\n",
    "            \n",
    "            #retrieve the details\n",
    "            if t.present(f'(//span[@id=\"spanLocation\"])[{j}]/a'):\n",
    "                sno = (i-1) * item_per_page + j \n",
    "                location = t.read(f'(//span[@id=\"spanLocation\"])[{j}]/a') #retrieve location \n",
    "                price = t.read(f'(//span[@class=\"spanPrice\"])[{j}]') #retrieve price\n",
    "                d_temp = [sno,location,price]\n",
    "                writer.writerow(d_temp) #write to csv file\n",
    "                print (d_temp)\n",
    "            else:\n",
    "                print('no more items')\n",
    "                break\n",
    "        \n",
    "        if t.present('//span[@class=\"pager-content\"]/@data-pagination-goto'): #go to next page\n",
    "             if t.present('//li[@class=\"pager-next\"]'): #go to next page\n",
    "                    t.click('//li[@class=\"pager-next\"]')\n",
    "                    t.wait(5)\n",
    "\n",
    "        #if i != page_count+1:\n",
    "        \n",
    "file.close()"
   ]
  }
 ],
 "metadata": {
  "kernelspec": {
   "display_name": "Python 3",
   "language": "python",
   "name": "python3"
  },
  "language_info": {
   "codemirror_mode": {
    "name": "ipython",
    "version": 3
   },
   "file_extension": ".py",
   "mimetype": "text/x-python",
   "name": "python",
   "nbconvert_exporter": "python",
   "pygments_lexer": "ipython3",
   "version": "3.7.6"
  }
 },
 "nbformat": 4,
 "nbformat_minor": 2
}
