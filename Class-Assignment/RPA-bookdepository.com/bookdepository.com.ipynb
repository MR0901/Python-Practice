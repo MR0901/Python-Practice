{
 "cells": [
  {
   "cell_type": "markdown",
   "metadata": {},
   "source": [
    "### Setup TagUI"
   ]
  },
  {
   "cell_type": "code",
   "execution_count": 1,
   "metadata": {},
   "outputs": [],
   "source": [
    "import tagui as t\n",
    "t.init()\n",
    "\n",
    "import csv"
   ]
  },
  {
   "cell_type": "code",
   "execution_count": 2,
   "metadata": {},
   "outputs": [
    {
     "data": {
      "text/plain": [
       "True"
      ]
     },
     "execution_count": 2,
     "metadata": {},
     "output_type": "execute_result"
    }
   ],
   "source": [
    "t.url('https://www.bookdepository.com/')"
   ]
  },
  {
   "cell_type": "markdown",
   "metadata": {},
   "source": [
    "<p> test for presence before the code is run </p>"
   ]
  },
  {
   "cell_type": "markdown",
   "metadata": {},
   "source": [
    "<h3> Grab Book Titles and URLs </h3> "
   ]
  },
  {
   "cell_type": "code",
   "execution_count": 3,
   "metadata": {},
   "outputs": [
    {
     "name": "stdout",
     "output_type": "stream",
     "text": [
      "Number of books =  21\n"
     ]
    }
   ],
   "source": [
    "#count the number of books\n",
    "num_books =t.count('//h3[@class=\"title\"][preceding::h2[contains(text(), \"Bestselling Books in Singapore\")] and following::h2[contains(text(), \"New Releases and in the News\")]]')\n",
    "print('Number of books = ', num_books)"
   ]
  },
  {
   "cell_type": "code",
   "execution_count": 4,
   "metadata": {},
   "outputs": [
    {
     "name": "stdout",
     "output_type": "stream",
     "text": [
      "1 title = Sapiens\n",
      "2 title = Start With Why\n",
      "3 title = Why We Sleep\n",
      "4 title = Never Split the Difference\n",
      "5 title = This is Going to Hurt\n",
      "6 title = Thinking, Fast and Slow\n",
      "7 title = The Boy, The Mole, The Fox and The Horse\n",
      "8 title = Normal People\n",
      "9 title = Atomic Habits\n",
      "10 title = Mindset - Updated Edition\n",
      "11 title = My Grammar and I (Or Should That Be 'Me'?)\n",
      "12 title = When Breath Becomes Air\n",
      "13 title = Educated\n",
      "14 title = Surrounded by Idiots\n",
      "15 title = How to Win Friends and Influence People\n",
      "16 title = Lost Connections\n",
      "17 title = Look Inside Your Body\n",
      "18 title = Bad Blood\n",
      "19 title = The Subtle Art of Not Giving a F*ck\n",
      "20 title = The Silent Patient\n",
      "21 title = 12 Rules for Life\n"
     ]
    }
   ],
   "source": [
    "for n in range(1,num_books+1):\n",
    "    title = t.read(f'(//h3[@class=\"title\"][preceding::h2[contains(text(), \"Bestselling Books in Singapore\")] and following::h2[contains(text(), \"New Releases and in the News\")]])[{n}]')\n",
    "    print(f'{n} title = {title}')"
   ]
  },
  {
   "cell_type": "code",
   "execution_count": 5,
   "metadata": {},
   "outputs": [
    {
     "name": "stdout",
     "output_type": "stream",
     "text": [
      "1 url = /Sapiens-Yuval-Noah-Harari/9780099590088?ref=grid-view\n",
      "2 url = /Start-With-Why-Simon-Sinek/9780241958223?ref=grid-view\n",
      "3 url = /Why-We-Sleep-Matthew-Walker/9780141983769?ref=grid-view\n",
      "4 url = /Never-Split-Difference-Chris-Voss/9781847941497?ref=grid-view\n",
      "5 url = /This-is-Going-Hurt-Adam-Kay/9781509858637?ref=grid-view\n",
      "6 url = /Thinking-Fast-Slow-Daniel-Kahneman/9780141033570?ref=grid-view\n",
      "7 url = /Boy-Mole-Fox-Horse-Charlie-Mackesy/9781529105100?ref=grid-view\n",
      "8 url = /Normal-People-Sally-Rooney/9780571334650?ref=grid-view\n",
      "9 url = /Atomic-Habits-James-Clear/9781847941831?ref=grid-view\n",
      "10 url = /Mindset-Updated-Edition-Carol-Dweck/9781472139955?ref=grid-view\n",
      "11 url = /My-Grammar-I-Or-Should-That-Be-Me-Caroline-Taggart/9781843176572?ref=grid-view\n",
      "12 url = /When-Breath-Becomes-Air-Paul-Kalanithi/9781784701994?ref=grid-view\n",
      "13 url = /Educated-Tara-Westover/9780099511021?ref=grid-view\n",
      "14 url = /Surrounded-by-Idiots-Thomas-Erikson/9781785042188?ref=grid-view\n",
      "15 url = /How-Win-Friends-Influence-People-Dale-Carnegie/9781439199190?ref=grid-view\n",
      "16 url = /Lost-Connections-Johann-Hari/9781408878729?ref=grid-view\n",
      "17 url = /Look-Inside-Your-Body-Louie-Stowell/9781409549475?ref=grid-view\n",
      "18 url = /Bad-Blood-John-Carreyrou/9781509868087?ref=grid-view\n",
      "19 url = /Subtle-Art-Not-Giving-F-ck-Mark-Manson/9780062457714?ref=grid-view\n",
      "20 url = /Silent-Patient-Alex-Michaelides/9781409181637?ref=grid-view\n",
      "21 url = /12-Rules-for-Life-Jordan-B-Peterson/9780141988511?ref=grid-view\n"
     ]
    }
   ],
   "source": [
    "for n in range(1,num_books+1):\n",
    "    url = t.read(f'(//h3[@class=\"title\"][preceding::h2[contains(text(), \"Bestselling Books in Singapore\")] and following::h2[contains(text(), \"New Releases and in the News\")]])[{n}]/a/@href')\n",
    "    print(f'{n} url = {url}')"
   ]
  },
  {
   "cell_type": "code",
   "execution_count": 6,
   "metadata": {},
   "outputs": [],
   "source": [
    "#write the info to csv file \n",
    "with open('booklist_level1.csv', 'w', newline='') as file:\n",
    "    writer = csv.writer(file)\n",
    "    writer.writerow([\"Sno\", \"Title\", \"URL\"])\n",
    "    \n",
    "    for n in range(1,num_books+1):\n",
    "        title = t.read(f'(//h3[@class=\"title\"][preceding::h2[contains(text(), \"Bestselling Books in Singapore\")] and following::h2[contains(text(), \"New Releases and in the News\")]])[{n}]')\n",
    "        url = t.read(f'(//h3[@class=\"title\"][preceding::h2[contains(text(), \"Bestselling Books in Singapore\")] and following::h2[contains(text(), \"New Releases and in the News\")]])[{n}]/a/@href')\n",
    "        writer.writerow([n,title, url])\n",
    "        \n",
    "file.close()"
   ]
  },
  {
   "cell_type": "markdown",
   "metadata": {},
   "source": [
    "<h3> Grab Book Details </h3>"
   ]
  },
  {
   "cell_type": "code",
   "execution_count": 10,
   "metadata": {},
   "outputs": [
    {
     "name": "stdout",
     "output_type": "stream",
     "text": [
      "Progress Bar: URLs Retrieval Completed.\n",
      "Progress Bar: 1 book completed.\n",
      "Progress Bar: 2 book completed.\n",
      "Progress Bar: 3 book completed.\n",
      "Progress Bar: 4 book completed.\n",
      "Progress Bar: 5 book completed.\n",
      "Progress Bar: 6 book completed.\n",
      "Progress Bar: 7 book completed.\n",
      "Progress Bar: 8 book completed.\n",
      "Progress Bar: 9 book completed.\n",
      "Progress Bar: 10 book completed.\n",
      "Progress Bar: 11 book completed.\n",
      "Progress Bar: 12 book completed.\n",
      "Progress Bar: 13 book completed.\n",
      "Progress Bar: 14 book completed.\n",
      "Progress Bar: 15 book completed.\n",
      "Progress Bar: 16 book completed.\n",
      "Progress Bar: 17 book completed.\n",
      "Progress Bar: 18 book completed.\n",
      "Progress Bar: 19 book completed.\n",
      "Progress Bar: 20 book completed.\n",
      "Progress Bar: 21 book completed.\n"
     ]
    }
   ],
   "source": [
    "urls = []\n",
    "d_temp = []\n",
    "headers = [\"For ages\",\"Format\",\"Dimensions\",\"Publication date\",\n",
    "           \"Publisher\",\"Imprint\",\"Publication City/Country\",\"Language\",\n",
    "           \"Edition\",\"Illustrations note\",\"ISBN10\",\"ISBN13\",\"Bestsellers rank\"]\n",
    "\n",
    "#open website\n",
    "t.url('https://www.bookdepository.com/')\n",
    "t.wait (5)\n",
    "\n",
    "#count the number of books and retrieve all urls\n",
    "num_books =t.count('//h3[@class=\"title\"][preceding::h2[contains(text(), \"Bestselling Books in Singapore\")] and following::h2[contains(text(), \"New Releases and in the News\")]]')\n",
    "for n in range(1,num_books+1):\n",
    "    urls.append(t.read(f'(//h3[@class=\"title\"][preceding::h2[contains(text(), \"Bestselling Books in Singapore\")] and following::h2[contains(text(), \"New Releases and in the News\")]])[{n}]/a/@href'))\n",
    "print (\"Progress Bar: URLs Retrieval Completed.\")\n",
    "\n",
    "#save details to csv\n",
    "with open('booklist_details.csv', 'w', newline='') as file:\n",
    "    writer = csv.writer(file,delimiter=',')\n",
    "    writer.writerow([\"Sno\", \"Title\",\"URL\",\"For ages\",\"Format\",\"Dimensions\",\"Publication date\",\n",
    "           \"Publisher\",\"Imprint\",\"Publication City/Country\",\"Language\",\n",
    "           \"Edition\",\"Illustrations note\",\"ISBN10\",\"ISBN13\",\"Bestsellers rank\"]) #create file header\n",
    "    \n",
    "    count = 1\n",
    "    \n",
    "    for url in urls:\n",
    "        t.url('https://www.bookdepository.com%s'%url)\n",
    "        t.wait (5)\n",
    "        \n",
    "        d_temp = []\n",
    "        d_temp.append(count)\n",
    "        d_temp.append(t.read(f'(//h1[contains(@itemprop, \"name\")]/text())')) #title\n",
    "        d_temp.append(t.url()) #url\n",
    "        \n",
    "        #retrieve details\n",
    "        for header in headers:\n",
    "            if t.present(f'(//li[label[contains(., \"%s\")]]/span)'%header):\n",
    "                d_temp.append(t.read(f'(//li[label[contains(., \"%s\")]]/span)'%header))\n",
    "            else:\n",
    "                d_temp.append('')\n",
    "        \n",
    "        writer.writerow(d_temp)\n",
    "        print (\"Progress Bar: %d book completed.\" %count)\n",
    "        count = count + 1\n",
    "\n",
    "file.close()"
   ]
  }
 ],
 "metadata": {
  "kernelspec": {
   "display_name": "Python 3",
   "language": "python",
   "name": "python3"
  },
  "language_info": {
   "codemirror_mode": {
    "name": "ipython",
    "version": 3
   },
   "file_extension": ".py",
   "mimetype": "text/x-python",
   "name": "python",
   "nbconvert_exporter": "python",
   "pygments_lexer": "ipython3",
   "version": "3.7.6"
  }
 },
 "nbformat": 4,
 "nbformat_minor": 2
}
