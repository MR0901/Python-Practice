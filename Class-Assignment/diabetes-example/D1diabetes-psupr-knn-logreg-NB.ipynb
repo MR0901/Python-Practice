{
  "cells": [
    {
      "cell_type": "code",
      "execution_count": 1,
      "metadata": {
        "pycharm": {
          "is_executing": false
        }
      },
      "outputs": [],
      "source": [
        "import numpy as np\n",
        "import pandas as pd\n",
        "import matplotlib.pyplot as plt\n",
        "import warnings\n",
        "warnings.filterwarnings(\u0027ignore\u0027)\n",
        "%matplotlib inline"
      ]
    },
    {
      "cell_type": "code",
      "execution_count": 14,
      "metadata": {
        "_uuid": "3977359aa7f65cc9d96fdf0ede4e99116fb314c6",
        "pycharm": {
          "is_executing": false
        }
      },
      "outputs": [
        {
          "data": {
            "text/html": [
              "\u003cdiv\u003e\n",
              "\u003cstyle scoped\u003e\n",
              "    .dataframe tbody tr th:only-of-type {\n",
              "        vertical-align: middle;\n",
              "    }\n",
              "\n",
              "    .dataframe tbody tr th {\n",
              "        vertical-align: top;\n",
              "    }\n",
              "\n",
              "    .dataframe thead th {\n",
              "        text-align: right;\n",
              "    }\n",
              "\u003c/style\u003e\n",
              "\u003ctable border\u003d\"1\" class\u003d\"dataframe\"\u003e\n",
              "  \u003cthead\u003e\n",
              "    \u003ctr style\u003d\"text-align: right;\"\u003e\n",
              "      \u003cth\u003e\u003c/th\u003e\n",
              "      \u003cth\u003ePregnancies\u003c/th\u003e\n",
              "      \u003cth\u003eGlucose\u003c/th\u003e\n",
              "      \u003cth\u003eBloodPressure\u003c/th\u003e\n",
              "      \u003cth\u003eSkinThickness\u003c/th\u003e\n",
              "      \u003cth\u003eInsulin\u003c/th\u003e\n",
              "      \u003cth\u003eBMI\u003c/th\u003e\n",
              "      \u003cth\u003eDiabetesPedigreeFunction\u003c/th\u003e\n",
              "      \u003cth\u003eAge\u003c/th\u003e\n",
              "      \u003cth\u003eOutcome\u003c/th\u003e\n",
              "    \u003c/tr\u003e\n",
              "  \u003c/thead\u003e\n",
              "  \u003ctbody\u003e\n",
              "    \u003ctr\u003e\n",
              "      \u003cth\u003e0\u003c/th\u003e\n",
              "      \u003ctd\u003e6\u003c/td\u003e\n",
              "      \u003ctd\u003e148\u003c/td\u003e\n",
              "      \u003ctd\u003e72\u003c/td\u003e\n",
              "      \u003ctd\u003e35\u003c/td\u003e\n",
              "      \u003ctd\u003e0\u003c/td\u003e\n",
              "      \u003ctd\u003e33.6\u003c/td\u003e\n",
              "      \u003ctd\u003e0.627\u003c/td\u003e\n",
              "      \u003ctd\u003e50\u003c/td\u003e\n",
              "      \u003ctd\u003e1\u003c/td\u003e\n",
              "    \u003c/tr\u003e\n",
              "    \u003ctr\u003e\n",
              "      \u003cth\u003e1\u003c/th\u003e\n",
              "      \u003ctd\u003e1\u003c/td\u003e\n",
              "      \u003ctd\u003e85\u003c/td\u003e\n",
              "      \u003ctd\u003e66\u003c/td\u003e\n",
              "      \u003ctd\u003e29\u003c/td\u003e\n",
              "      \u003ctd\u003e0\u003c/td\u003e\n",
              "      \u003ctd\u003e26.6\u003c/td\u003e\n",
              "      \u003ctd\u003e0.351\u003c/td\u003e\n",
              "      \u003ctd\u003e31\u003c/td\u003e\n",
              "      \u003ctd\u003e0\u003c/td\u003e\n",
              "    \u003c/tr\u003e\n",
              "    \u003ctr\u003e\n",
              "      \u003cth\u003e2\u003c/th\u003e\n",
              "      \u003ctd\u003e8\u003c/td\u003e\n",
              "      \u003ctd\u003e183\u003c/td\u003e\n",
              "      \u003ctd\u003e64\u003c/td\u003e\n",
              "      \u003ctd\u003e0\u003c/td\u003e\n",
              "      \u003ctd\u003e0\u003c/td\u003e\n",
              "      \u003ctd\u003e23.3\u003c/td\u003e\n",
              "      \u003ctd\u003e0.672\u003c/td\u003e\n",
              "      \u003ctd\u003e32\u003c/td\u003e\n",
              "      \u003ctd\u003e1\u003c/td\u003e\n",
              "    \u003c/tr\u003e\n",
              "    \u003ctr\u003e\n",
              "      \u003cth\u003e3\u003c/th\u003e\n",
              "      \u003ctd\u003e1\u003c/td\u003e\n",
              "      \u003ctd\u003e89\u003c/td\u003e\n",
              "      \u003ctd\u003e66\u003c/td\u003e\n",
              "      \u003ctd\u003e23\u003c/td\u003e\n",
              "      \u003ctd\u003e94\u003c/td\u003e\n",
              "      \u003ctd\u003e28.1\u003c/td\u003e\n",
              "      \u003ctd\u003e0.167\u003c/td\u003e\n",
              "      \u003ctd\u003e21\u003c/td\u003e\n",
              "      \u003ctd\u003e0\u003c/td\u003e\n",
              "    \u003c/tr\u003e\n",
              "    \u003ctr\u003e\n",
              "      \u003cth\u003e4\u003c/th\u003e\n",
              "      \u003ctd\u003e0\u003c/td\u003e\n",
              "      \u003ctd\u003e137\u003c/td\u003e\n",
              "      \u003ctd\u003e40\u003c/td\u003e\n",
              "      \u003ctd\u003e35\u003c/td\u003e\n",
              "      \u003ctd\u003e168\u003c/td\u003e\n",
              "      \u003ctd\u003e43.1\u003c/td\u003e\n",
              "      \u003ctd\u003e2.288\u003c/td\u003e\n",
              "      \u003ctd\u003e33\u003c/td\u003e\n",
              "      \u003ctd\u003e1\u003c/td\u003e\n",
              "    \u003c/tr\u003e\n",
              "    \u003ctr\u003e\n",
              "      \u003cth\u003e5\u003c/th\u003e\n",
              "      \u003ctd\u003e5\u003c/td\u003e\n",
              "      \u003ctd\u003e116\u003c/td\u003e\n",
              "      \u003ctd\u003e74\u003c/td\u003e\n",
              "      \u003ctd\u003e0\u003c/td\u003e\n",
              "      \u003ctd\u003e0\u003c/td\u003e\n",
              "      \u003ctd\u003e25.6\u003c/td\u003e\n",
              "      \u003ctd\u003e0.201\u003c/td\u003e\n",
              "      \u003ctd\u003e30\u003c/td\u003e\n",
              "      \u003ctd\u003e0\u003c/td\u003e\n",
              "    \u003c/tr\u003e\n",
              "    \u003ctr\u003e\n",
              "      \u003cth\u003e6\u003c/th\u003e\n",
              "      \u003ctd\u003e3\u003c/td\u003e\n",
              "      \u003ctd\u003e78\u003c/td\u003e\n",
              "      \u003ctd\u003e50\u003c/td\u003e\n",
              "      \u003ctd\u003e32\u003c/td\u003e\n",
              "      \u003ctd\u003e88\u003c/td\u003e\n",
              "      \u003ctd\u003e31.0\u003c/td\u003e\n",
              "      \u003ctd\u003e0.248\u003c/td\u003e\n",
              "      \u003ctd\u003e26\u003c/td\u003e\n",
              "      \u003ctd\u003e1\u003c/td\u003e\n",
              "    \u003c/tr\u003e\n",
              "    \u003ctr\u003e\n",
              "      \u003cth\u003e7\u003c/th\u003e\n",
              "      \u003ctd\u003e10\u003c/td\u003e\n",
              "      \u003ctd\u003e115\u003c/td\u003e\n",
              "      \u003ctd\u003e0\u003c/td\u003e\n",
              "      \u003ctd\u003e0\u003c/td\u003e\n",
              "      \u003ctd\u003e0\u003c/td\u003e\n",
              "      \u003ctd\u003e35.3\u003c/td\u003e\n",
              "      \u003ctd\u003e0.134\u003c/td\u003e\n",
              "      \u003ctd\u003e29\u003c/td\u003e\n",
              "      \u003ctd\u003e0\u003c/td\u003e\n",
              "    \u003c/tr\u003e\n",
              "    \u003ctr\u003e\n",
              "      \u003cth\u003e8\u003c/th\u003e\n",
              "      \u003ctd\u003e2\u003c/td\u003e\n",
              "      \u003ctd\u003e197\u003c/td\u003e\n",
              "      \u003ctd\u003e70\u003c/td\u003e\n",
              "      \u003ctd\u003e45\u003c/td\u003e\n",
              "      \u003ctd\u003e543\u003c/td\u003e\n",
              "      \u003ctd\u003e30.5\u003c/td\u003e\n",
              "      \u003ctd\u003e0.158\u003c/td\u003e\n",
              "      \u003ctd\u003e53\u003c/td\u003e\n",
              "      \u003ctd\u003e1\u003c/td\u003e\n",
              "    \u003c/tr\u003e\n",
              "    \u003ctr\u003e\n",
              "      \u003cth\u003e9\u003c/th\u003e\n",
              "      \u003ctd\u003e8\u003c/td\u003e\n",
              "      \u003ctd\u003e125\u003c/td\u003e\n",
              "      \u003ctd\u003e96\u003c/td\u003e\n",
              "      \u003ctd\u003e0\u003c/td\u003e\n",
              "      \u003ctd\u003e0\u003c/td\u003e\n",
              "      \u003ctd\u003e0.0\u003c/td\u003e\n",
              "      \u003ctd\u003e0.232\u003c/td\u003e\n",
              "      \u003ctd\u003e54\u003c/td\u003e\n",
              "      \u003ctd\u003e1\u003c/td\u003e\n",
              "    \u003c/tr\u003e\n",
              "  \u003c/tbody\u003e\n",
              "\u003c/table\u003e\n",
              "\u003c/div\u003e"
            ],
            "text/plain": [
              "   Pregnancies  Glucose  BloodPressure  SkinThickness  Insulin   BMI  \\\n",
              "0            6      148             72             35        0  33.6   \n",
              "1            1       85             66             29        0  26.6   \n",
              "2            8      183             64              0        0  23.3   \n",
              "3            1       89             66             23       94  28.1   \n",
              "4            0      137             40             35      168  43.1   \n",
              "5            5      116             74              0        0  25.6   \n",
              "6            3       78             50             32       88  31.0   \n",
              "7           10      115              0              0        0  35.3   \n",
              "8            2      197             70             45      543  30.5   \n",
              "9            8      125             96              0        0   0.0   \n",
              "\n",
              "   DiabetesPedigreeFunction  Age  Outcome  \n",
              "0                     0.627   50        1  \n",
              "1                     0.351   31        0  \n",
              "2                     0.672   32        1  \n",
              "3                     0.167   21        0  \n",
              "4                     2.288   33        1  \n",
              "5                     0.201   30        0  \n",
              "6                     0.248   26        1  \n",
              "7                     0.134   29        0  \n",
              "8                     0.158   53        1  \n",
              "9                     0.232   54        1  "
            ]
          },
          "execution_count": 14,
          "metadata": {},
          "output_type": "execute_result"
        }
      ],
      "source": [
        "#Loading the dataset\n",
        "diabetes_data \u003d pd.read_csv(\u0027diabetes.csv\u0027)\n",
        "\n",
        "#Print the first 5 rows of the dataframe.\n",
        "diabetes_data.head(10)"
      ]
    },
    {
      "cell_type": "code",
      "execution_count": 15,
      "metadata": {
        "_uuid": "8322614f5de4888d713c0468a43ae2a3eb1b8862",
        "pycharm": {}
      },
      "outputs": [
        {
          "data": {
            "text/plain": [
              "(768, 9)"
            ]
          },
          "execution_count": 15,
          "metadata": {},
          "output_type": "execute_result"
        }
      ],
      "source": [
        "## observing the shape of the data\n",
        "diabetes_data.shape"
      ]
    },
    {
      "cell_type": "code",
      "execution_count": 16,
      "metadata": {
        "_uuid": "9d9bd9ecd9612fb32f0629a8a3c0a85a14b034cf",
        "pycharm": {}
      },
      "outputs": [],
      "source": [
        "X \u003d diabetes_data.drop(\"Outcome\",axis \u003d 1)\n",
        "y \u003d diabetes_data.Outcome"
      ]
    },
    {
      "cell_type": "code",
      "execution_count": 17,
      "metadata": {
        "_uuid": "e10c79fe13861fb0fbe714c977f93bb8ed90a5fd",
        "pycharm": {}
      },
      "outputs": [
        {
          "data": {
            "text/html": [
              "\u003cdiv\u003e\n",
              "\u003cstyle scoped\u003e\n",
              "    .dataframe tbody tr th:only-of-type {\n",
              "        vertical-align: middle;\n",
              "    }\n",
              "\n",
              "    .dataframe tbody tr th {\n",
              "        vertical-align: top;\n",
              "    }\n",
              "\n",
              "    .dataframe thead th {\n",
              "        text-align: right;\n",
              "    }\n",
              "\u003c/style\u003e\n",
              "\u003ctable border\u003d\"1\" class\u003d\"dataframe\"\u003e\n",
              "  \u003cthead\u003e\n",
              "    \u003ctr style\u003d\"text-align: right;\"\u003e\n",
              "      \u003cth\u003e\u003c/th\u003e\n",
              "      \u003cth\u003ePregnancies\u003c/th\u003e\n",
              "      \u003cth\u003eGlucose\u003c/th\u003e\n",
              "      \u003cth\u003eBloodPressure\u003c/th\u003e\n",
              "      \u003cth\u003eSkinThickness\u003c/th\u003e\n",
              "      \u003cth\u003eInsulin\u003c/th\u003e\n",
              "      \u003cth\u003eBMI\u003c/th\u003e\n",
              "      \u003cth\u003eDiabetesPedigreeFunction\u003c/th\u003e\n",
              "      \u003cth\u003eAge\u003c/th\u003e\n",
              "    \u003c/tr\u003e\n",
              "  \u003c/thead\u003e\n",
              "  \u003ctbody\u003e\n",
              "    \u003ctr\u003e\n",
              "      \u003cth\u003e0\u003c/th\u003e\n",
              "      \u003ctd\u003e6\u003c/td\u003e\n",
              "      \u003ctd\u003e148\u003c/td\u003e\n",
              "      \u003ctd\u003e72\u003c/td\u003e\n",
              "      \u003ctd\u003e35\u003c/td\u003e\n",
              "      \u003ctd\u003e0\u003c/td\u003e\n",
              "      \u003ctd\u003e33.6\u003c/td\u003e\n",
              "      \u003ctd\u003e0.627\u003c/td\u003e\n",
              "      \u003ctd\u003e50\u003c/td\u003e\n",
              "    \u003c/tr\u003e\n",
              "    \u003ctr\u003e\n",
              "      \u003cth\u003e1\u003c/th\u003e\n",
              "      \u003ctd\u003e1\u003c/td\u003e\n",
              "      \u003ctd\u003e85\u003c/td\u003e\n",
              "      \u003ctd\u003e66\u003c/td\u003e\n",
              "      \u003ctd\u003e29\u003c/td\u003e\n",
              "      \u003ctd\u003e0\u003c/td\u003e\n",
              "      \u003ctd\u003e26.6\u003c/td\u003e\n",
              "      \u003ctd\u003e0.351\u003c/td\u003e\n",
              "      \u003ctd\u003e31\u003c/td\u003e\n",
              "    \u003c/tr\u003e\n",
              "    \u003ctr\u003e\n",
              "      \u003cth\u003e2\u003c/th\u003e\n",
              "      \u003ctd\u003e8\u003c/td\u003e\n",
              "      \u003ctd\u003e183\u003c/td\u003e\n",
              "      \u003ctd\u003e64\u003c/td\u003e\n",
              "      \u003ctd\u003e0\u003c/td\u003e\n",
              "      \u003ctd\u003e0\u003c/td\u003e\n",
              "      \u003ctd\u003e23.3\u003c/td\u003e\n",
              "      \u003ctd\u003e0.672\u003c/td\u003e\n",
              "      \u003ctd\u003e32\u003c/td\u003e\n",
              "    \u003c/tr\u003e\n",
              "    \u003ctr\u003e\n",
              "      \u003cth\u003e3\u003c/th\u003e\n",
              "      \u003ctd\u003e1\u003c/td\u003e\n",
              "      \u003ctd\u003e89\u003c/td\u003e\n",
              "      \u003ctd\u003e66\u003c/td\u003e\n",
              "      \u003ctd\u003e23\u003c/td\u003e\n",
              "      \u003ctd\u003e94\u003c/td\u003e\n",
              "      \u003ctd\u003e28.1\u003c/td\u003e\n",
              "      \u003ctd\u003e0.167\u003c/td\u003e\n",
              "      \u003ctd\u003e21\u003c/td\u003e\n",
              "    \u003c/tr\u003e\n",
              "    \u003ctr\u003e\n",
              "      \u003cth\u003e4\u003c/th\u003e\n",
              "      \u003ctd\u003e0\u003c/td\u003e\n",
              "      \u003ctd\u003e137\u003c/td\u003e\n",
              "      \u003ctd\u003e40\u003c/td\u003e\n",
              "      \u003ctd\u003e35\u003c/td\u003e\n",
              "      \u003ctd\u003e168\u003c/td\u003e\n",
              "      \u003ctd\u003e43.1\u003c/td\u003e\n",
              "      \u003ctd\u003e2.288\u003c/td\u003e\n",
              "      \u003ctd\u003e33\u003c/td\u003e\n",
              "    \u003c/tr\u003e\n",
              "    \u003ctr\u003e\n",
              "      \u003cth\u003e5\u003c/th\u003e\n",
              "      \u003ctd\u003e5\u003c/td\u003e\n",
              "      \u003ctd\u003e116\u003c/td\u003e\n",
              "      \u003ctd\u003e74\u003c/td\u003e\n",
              "      \u003ctd\u003e0\u003c/td\u003e\n",
              "      \u003ctd\u003e0\u003c/td\u003e\n",
              "      \u003ctd\u003e25.6\u003c/td\u003e\n",
              "      \u003ctd\u003e0.201\u003c/td\u003e\n",
              "      \u003ctd\u003e30\u003c/td\u003e\n",
              "    \u003c/tr\u003e\n",
              "    \u003ctr\u003e\n",
              "      \u003cth\u003e6\u003c/th\u003e\n",
              "      \u003ctd\u003e3\u003c/td\u003e\n",
              "      \u003ctd\u003e78\u003c/td\u003e\n",
              "      \u003ctd\u003e50\u003c/td\u003e\n",
              "      \u003ctd\u003e32\u003c/td\u003e\n",
              "      \u003ctd\u003e88\u003c/td\u003e\n",
              "      \u003ctd\u003e31.0\u003c/td\u003e\n",
              "      \u003ctd\u003e0.248\u003c/td\u003e\n",
              "      \u003ctd\u003e26\u003c/td\u003e\n",
              "    \u003c/tr\u003e\n",
              "    \u003ctr\u003e\n",
              "      \u003cth\u003e7\u003c/th\u003e\n",
              "      \u003ctd\u003e10\u003c/td\u003e\n",
              "      \u003ctd\u003e115\u003c/td\u003e\n",
              "      \u003ctd\u003e0\u003c/td\u003e\n",
              "      \u003ctd\u003e0\u003c/td\u003e\n",
              "      \u003ctd\u003e0\u003c/td\u003e\n",
              "      \u003ctd\u003e35.3\u003c/td\u003e\n",
              "      \u003ctd\u003e0.134\u003c/td\u003e\n",
              "      \u003ctd\u003e29\u003c/td\u003e\n",
              "    \u003c/tr\u003e\n",
              "    \u003ctr\u003e\n",
              "      \u003cth\u003e8\u003c/th\u003e\n",
              "      \u003ctd\u003e2\u003c/td\u003e\n",
              "      \u003ctd\u003e197\u003c/td\u003e\n",
              "      \u003ctd\u003e70\u003c/td\u003e\n",
              "      \u003ctd\u003e45\u003c/td\u003e\n",
              "      \u003ctd\u003e543\u003c/td\u003e\n",
              "      \u003ctd\u003e30.5\u003c/td\u003e\n",
              "      \u003ctd\u003e0.158\u003c/td\u003e\n",
              "      \u003ctd\u003e53\u003c/td\u003e\n",
              "    \u003c/tr\u003e\n",
              "    \u003ctr\u003e\n",
              "      \u003cth\u003e9\u003c/th\u003e\n",
              "      \u003ctd\u003e8\u003c/td\u003e\n",
              "      \u003ctd\u003e125\u003c/td\u003e\n",
              "      \u003ctd\u003e96\u003c/td\u003e\n",
              "      \u003ctd\u003e0\u003c/td\u003e\n",
              "      \u003ctd\u003e0\u003c/td\u003e\n",
              "      \u003ctd\u003e0.0\u003c/td\u003e\n",
              "      \u003ctd\u003e0.232\u003c/td\u003e\n",
              "      \u003ctd\u003e54\u003c/td\u003e\n",
              "    \u003c/tr\u003e\n",
              "  \u003c/tbody\u003e\n",
              "\u003c/table\u003e\n",
              "\u003c/div\u003e"
            ],
            "text/plain": [
              "   Pregnancies  Glucose  BloodPressure  SkinThickness  Insulin   BMI  \\\n",
              "0            6      148             72             35        0  33.6   \n",
              "1            1       85             66             29        0  26.6   \n",
              "2            8      183             64              0        0  23.3   \n",
              "3            1       89             66             23       94  28.1   \n",
              "4            0      137             40             35      168  43.1   \n",
              "5            5      116             74              0        0  25.6   \n",
              "6            3       78             50             32       88  31.0   \n",
              "7           10      115              0              0        0  35.3   \n",
              "8            2      197             70             45      543  30.5   \n",
              "9            8      125             96              0        0   0.0   \n",
              "\n",
              "   DiabetesPedigreeFunction  Age  \n",
              "0                     0.627   50  \n",
              "1                     0.351   31  \n",
              "2                     0.672   32  \n",
              "3                     0.167   21  \n",
              "4                     2.288   33  \n",
              "5                     0.201   30  \n",
              "6                     0.248   26  \n",
              "7                     0.134   29  \n",
              "8                     0.158   53  \n",
              "9                     0.232   54  "
            ]
          },
          "execution_count": 17,
          "metadata": {},
          "output_type": "execute_result"
        }
      ],
      "source": [
        "X.head(10)"
      ]
    },
    {
      "cell_type": "code",
      "execution_count": 18,
      "metadata": {
        "_uuid": "f14c88ae0a061de30566d336608d195ba89993d9",
        "pycharm": {}
      },
      "outputs": [],
      "source": [
        "#importing train_test_split\n",
        "from sklearn.model_selection import train_test_split\n",
        "X_train,X_test,y_train,y_test \u003d train_test_split(X,y,test_size\u003d1/3,random_state\u003d42, stratify\u003dy)"
      ]
    },
    {
      "cell_type": "code",
      "execution_count": 19,
      "metadata": {
        "pycharm": {}
      },
      "outputs": [
        {
          "data": {
            "text/plain": [
              "(512, 8)"
            ]
          },
          "execution_count": 19,
          "metadata": {},
          "output_type": "execute_result"
        }
      ],
      "source": [
        "X_train.shape"
      ]
    },
    {
      "cell_type": "code",
      "execution_count": 20,
      "metadata": {
        "pycharm": {}
      },
      "outputs": [
        {
          "data": {
            "text/plain": [
              "(256, 8)"
            ]
          },
          "execution_count": 20,
          "metadata": {},
          "output_type": "execute_result"
        }
      ],
      "source": [
        "X_test.shape"
      ]
    },
    {
      "cell_type": "code",
      "execution_count": 21,
      "metadata": {
        "pycharm": {}
      },
      "outputs": [],
      "source": [
        "from sklearn.preprocessing import StandardScaler  \n",
        "scaler \u003d StandardScaler()  \n",
        "scaler.fit(X_train)\n",
        "\n",
        "X_train \u003d scaler.transform(X_train)  \n",
        "X_test \u003d scaler.transform(X_test) "
      ]
    },
    {
      "cell_type": "markdown",
      "metadata": {
        "pycharm": {}
      },
      "source": [
        "# LOGISTIC REGRESSION"
      ]
    },
    {
      "cell_type": "code",
      "execution_count": 22,
      "metadata": {
        "pycharm": {},
        "scrolled": false
      },
      "outputs": [
        {
          "name": "stdout",
          "output_type": "stream",
          "text": [
            "Training set score: 0.779\n",
            "Test set score: 0.742\n"
          ]
        }
      ],
      "source": [
        "from sklearn.linear_model import LogisticRegression\n",
        "logreg \u003d LogisticRegression(C\u003d0.01).fit(X_train, y_train)\n",
        "print(\"Training set score: {:.3f}\".format(logreg.score(X_train, y_train)))\n",
        "print(\"Test set score: {:.3f}\".format(logreg.score(X_test, y_test)))"
      ]
    },
    {
      "cell_type": "code",
      "execution_count": 23,
      "metadata": {
        "pycharm": {}
      },
      "outputs": [
        {
          "data": {
            "text/plain": [
              "array([-0.35820476])"
            ]
          },
          "execution_count": 23,
          "metadata": {},
          "output_type": "execute_result"
        }
      ],
      "source": [
        "logreg.intercept_.T"
      ]
    },
    {
      "cell_type": "code",
      "execution_count": 101,
      "metadata": {
        "pycharm": {}
      },
      "outputs": [
        {
          "data": {
            "text/plain": [
              "array([[ 0.20398889],\n",
              "       [ 0.45674873],\n",
              "       [-0.02314261],\n",
              "       [-0.00861687],\n",
              "       [ 0.08796794],\n",
              "       [ 0.28353597],\n",
              "       [ 0.10949146],\n",
              "       [ 0.12381519]])"
            ]
          },
          "execution_count": 101,
          "metadata": {},
          "output_type": "execute_result"
        }
      ],
      "source": [
        "logreg.coef_.T"
      ]
    },
    {
      "cell_type": "markdown",
      "metadata": {
        "pycharm": {}
      },
      "source": [
        "### Confusion Matrix"
      ]
    },
    {
      "cell_type": "code",
      "execution_count": 102,
      "metadata": {
        "pycharm": {}
      },
      "outputs": [
        {
          "name": "stdout",
          "output_type": "stream",
          "text": [
            "[[139  28]\n",
            " [ 38  51]]\n",
            "              precision    recall  f1-score   support\n",
            "\n",
            "           0       0.79      0.83      0.81       167\n",
            "           1       0.65      0.57      0.61        89\n",
            "\n",
            "    accuracy                           0.74       256\n",
            "   macro avg       0.72      0.70      0.71       256\n",
            "weighted avg       0.74      0.74      0.74       256\n",
            "\n"
          ]
        }
      ],
      "source": [
        "from sklearn.metrics import classification_report, confusion_matrix  \n",
        "y_pred \u003d logreg.predict(X_test)\n",
        "print(confusion_matrix(y_test, y_pred))  \n",
        "print(classification_report(y_test, y_pred)) "
      ]
    },
    {
      "cell_type": "markdown",
      "metadata": {
        "pycharm": {}
      },
      "source": [
        "### ROC"
      ]
    },
    {
      "cell_type": "code",
      "execution_count": 116,
      "metadata": {
        "pycharm": {}
      },
      "outputs": [
        {
          "name": "stdout",
          "output_type": "stream",
          "text": [
            "Accuracy\u003d 0.76171875\n"
          ]
        },
        {
          "data": {
            "image/png": "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\u003d\n",
            "text/plain": [
              "\u003cFigure size 432x288 with 1 Axes\u003e"
            ]
          },
          "metadata": {
            "needs_background": "light"
          },
          "output_type": "display_data"
        }
      ],
      "source": [
        "from sklearn import metrics\n",
        "\n",
        "\n",
        "print(\"Accuracy\u003d\", metrics.accuracy_score(y_test, y_pred))\n",
        " \n",
        "y_pred_proba \u003d logreg.predict_proba(X_test)[::,1]\n",
        "fpr1, tpr1, _ \u003d metrics.roc_curve(y_test,  y_pred_proba)\n",
        "auc \u003d metrics.roc_auc_score(y_test, y_pred_proba)\n",
        "\n",
        "plt.plot(fpr1,tpr1,label\u003d\"logreg, auc\u003d\"+str(auc))\n",
        "plt.plot([0,1],[0,1],\u0027k--\u0027)\n",
        "plt.legend(loc\u003d4)\n",
        "plt.show()"
      ]
    },
    {
      "cell_type": "markdown",
      "metadata": {
        "pycharm": {}
      },
      "source": [
        "### Gains / Lift Chart"
      ]
    },
    {
      "cell_type": "code",
      "execution_count": null,
      "metadata": {
        "pycharm": {}
      },
      "outputs": [],
      "source": [
        "\n",
        "#!conda install -c conda-forge scikit-plot\n",
        "import matplotlib.pyplot as plt\n",
        "import scikitplot as skplt\n",
        "y_pred_probas \u003d logreg.predict_proba(X_test)"
      ]
    },
    {
      "cell_type": "code",
      "execution_count": 104,
      "metadata": {
        "pycharm": {},
        "scrolled": true
      },
      "outputs": [
        {
          "data": {
            "image/png": "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\u003d\u003d\n",
            "text/plain": [
              "\u003cFigure size 432x288 with 1 Axes\u003e"
            ]
          },
          "metadata": {
            "needs_background": "light"
          },
          "output_type": "display_data"
        }
      ],
      "source": [
        "skplt.metrics.plot_cumulative_gain(y_test, y_pred_probas)\n",
        "plt.show()"
      ]
    },
    {
      "cell_type": "code",
      "execution_count": 105,
      "metadata": {
        "pycharm": {}
      },
      "outputs": [
        {
          "data": {
            "image/png": "[encoded data removed]",
            "text/plain": [
              "\u003cFigure size 432x288 with 1 Axes\u003e"
            ]
          },
          "metadata": {
            "needs_background": "light"
          },
          "output_type": "display_data"
        }
      ],
      "source": [
        "skplt.metrics.plot_lift_curve(y_test, y_pred_probas)\n",
        "plt.show()"
      ]
    },
    {
      "cell_type": "markdown",
      "metadata": {
        "pycharm": {}
      },
      "source": [
        "# K-NN"
      ]
    },
    {
      "cell_type": "code",
      "execution_count": 106,
      "metadata": {
        "_uuid": "a7081050c51df07b8af1cd18c9be61f041a97fb8",
        "pycharm": {}
      },
      "outputs": [],
      "source": [
        "from sklearn.neighbors import KNeighborsClassifier\n",
        "\n",
        "test_scores \u003d []\n",
        "train_scores \u003d []\n",
        "\n",
        "for i in range(1,15):\n",
        "\n",
        "    knn \u003d KNeighborsClassifier(i)\n",
        "    knn.fit(X_train,y_train)\n",
        "    \n",
        "    train_scores.append(knn.score(X_train,y_train))\n",
        "    test_scores.append(knn.score(X_test,y_test))"
      ]
    },
    {
      "cell_type": "code",
      "execution_count": 107,
      "metadata": {
        "_uuid": "ee126a72ca24e54ee78bfac94a21dfac1a3edee1",
        "pycharm": {}
      },
      "outputs": [
        {
          "name": "stdout",
          "output_type": "stream",
          "text": [
            "Max train score 100.0 % and k \u003d [1]\n"
          ]
        }
      ],
      "source": [
        "## score that comes from testing on the same datapoints that were used for training\n",
        "max_train_score \u003d max(train_scores)\n",
        "train_scores_ind \u003d [i for i, v in enumerate(train_scores) if v \u003d\u003d max_train_score]\n",
        "print(\u0027Max train score {} % and k \u003d {}\u0027.format(max_train_score*100,list(map(lambda x: x+1, train_scores_ind))))"
      ]
    },
    {
      "cell_type": "code",
      "execution_count": 108,
      "metadata": {
        "_uuid": "8bbfda9d066c354f974dcb1180c3348aaa915c4e",
        "pycharm": {}
      },
      "outputs": [
        {
          "name": "stdout",
          "output_type": "stream",
          "text": [
            "Max test score 76.171875 % and k \u003d [9, 10, 11]\n"
          ]
        }
      ],
      "source": [
        "## score that comes from testing on the datapoints that were split in the beginning to be used for testing solely\n",
        "max_test_score \u003d max(test_scores)\n",
        "test_scores_ind \u003d [i for i, v in enumerate(test_scores) if v \u003d\u003d max_test_score]\n",
        "print(\u0027Max test score {} % and k \u003d {}\u0027.format(max_test_score*100,list(map(lambda x: x+1, test_scores_ind))))"
      ]
    },
    {
      "cell_type": "markdown",
      "metadata": {
        "_uuid": "fe08768381ea8011d90ae58149c8e41b0a707da2",
        "pycharm": {}
      },
      "source": [
        "### K-NN Result Visualisation"
      ]
    },
    {
      "cell_type": "code",
      "execution_count": 109,
      "metadata": {
        "_uuid": "2a5c0b4fde15148a049fa340a58f5b4fa421e614",
        "pycharm": {}
      },
      "outputs": [
        {
          "data": {
            "text/plain": [
              "[\u003cmatplotlib.lines.Line2D at 0x22814365f28\u003e]"
            ]
          },
          "execution_count": 109,
          "metadata": {},
          "output_type": "execute_result"
        },
        {
          "data": {
            "image/png": "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\u003d\u003d\n",
            "text/plain": [
              "\u003cFigure size 864x360 with 1 Axes\u003e"
            ]
          },
          "metadata": {
            "needs_background": "light"
          },
          "output_type": "display_data"
        }
      ],
      "source": [
        "plt.figure(figsize\u003d(12,5))\n",
        "plt.plot(range(1,15),train_scores,marker\u003d\u0027*\u0027,label\u003d\u0027Train Score\u0027)\n",
        "plt.plot(range(1,15),test_scores,marker\u003d\u0027o\u0027,label\u003d\u0027Test Score\u0027)"
      ]
    },
    {
      "cell_type": "markdown",
      "metadata": {
        "pycharm": {}
      },
      "source": [
        "This one compares..."
      ]
    },
    {
      "cell_type": "markdown",
      "metadata": {
        "_uuid": "1db31455aba31edc524091fa0914743a284034c5",
        "pycharm": {}
      },
      "source": [
        "#### The best result is captured at k \u003d 11 hence 11 is used for the final model"
      ]
    },
    {
      "cell_type": "code",
      "execution_count": 110,
      "metadata": {
        "_uuid": "277c1bb9c48cca13536ac8ba71604818d323fae0",
        "pycharm": {}
      },
      "outputs": [
        {
          "data": {
            "text/plain": [
              "0.76171875"
            ]
          },
          "execution_count": 110,
          "metadata": {},
          "output_type": "execute_result"
        }
      ],
      "source": [
        "#Setup a knn classifier with k neighbors\n",
        "knn \u003d KNeighborsClassifier(11)\n",
        "\n",
        "knn.fit(X_train,y_train)\n",
        "knn.score(X_test,y_test)"
      ]
    },
    {
      "cell_type": "markdown",
      "metadata": {
        "_uuid": "ab1e49d83f39a6ddc780c394d3a052b49508c6ac",
        "pycharm": {}
      },
      "source": [
        "## Model Performance Analysis"
      ]
    },
    {
      "cell_type": "code",
      "execution_count": 111,
      "metadata": {
        "_uuid": "d09044f60af8405e7334c2062404336d0849e871",
        "pycharm": {},
        "scrolled": true
      },
      "outputs": [
        {
          "data": {
            "text/html": [
              "\u003cdiv\u003e\n",
              "\u003cstyle scoped\u003e\n",
              "    .dataframe tbody tr th:only-of-type {\n",
              "        vertical-align: middle;\n",
              "    }\n",
              "\n",
              "    .dataframe tbody tr th {\n",
              "        vertical-align: top;\n",
              "    }\n",
              "\n",
              "    .dataframe thead th {\n",
              "        text-align: right;\n",
              "    }\n",
              "\u003c/style\u003e\n",
              "\u003ctable border\u003d\"1\" class\u003d\"dataframe\"\u003e\n",
              "  \u003cthead\u003e\n",
              "    \u003ctr style\u003d\"text-align: right;\"\u003e\n",
              "      \u003cth\u003ePredicted\u003c/th\u003e\n",
              "      \u003cth\u003e0\u003c/th\u003e\n",
              "      \u003cth\u003e1\u003c/th\u003e\n",
              "      \u003cth\u003eAll\u003c/th\u003e\n",
              "    \u003c/tr\u003e\n",
              "    \u003ctr\u003e\n",
              "      \u003cth\u003eTrue\u003c/th\u003e\n",
              "      \u003cth\u003e\u003c/th\u003e\n",
              "      \u003cth\u003e\u003c/th\u003e\n",
              "      \u003cth\u003e\u003c/th\u003e\n",
              "    \u003c/tr\u003e\n",
              "  \u003c/thead\u003e\n",
              "  \u003ctbody\u003e\n",
              "    \u003ctr\u003e\n",
              "      \u003cth\u003e0\u003c/th\u003e\n",
              "      \u003ctd\u003e145\u003c/td\u003e\n",
              "      \u003ctd\u003e22\u003c/td\u003e\n",
              "      \u003ctd\u003e167\u003c/td\u003e\n",
              "    \u003c/tr\u003e\n",
              "    \u003ctr\u003e\n",
              "      \u003cth\u003e1\u003c/th\u003e\n",
              "      \u003ctd\u003e39\u003c/td\u003e\n",
              "      \u003ctd\u003e50\u003c/td\u003e\n",
              "      \u003ctd\u003e89\u003c/td\u003e\n",
              "    \u003c/tr\u003e\n",
              "    \u003ctr\u003e\n",
              "      \u003cth\u003eAll\u003c/th\u003e\n",
              "      \u003ctd\u003e184\u003c/td\u003e\n",
              "      \u003ctd\u003e72\u003c/td\u003e\n",
              "      \u003ctd\u003e256\u003c/td\u003e\n",
              "    \u003c/tr\u003e\n",
              "  \u003c/tbody\u003e\n",
              "\u003c/table\u003e\n",
              "\u003c/div\u003e"
            ],
            "text/plain": [
              "Predicted    0   1  All\n",
              "True                   \n",
              "0          145  22  167\n",
              "1           39  50   89\n",
              "All        184  72  256"
            ]
          },
          "execution_count": 111,
          "metadata": {},
          "output_type": "execute_result"
        }
      ],
      "source": [
        "#import confusion_matrix\n",
        "from sklearn.metrics import confusion_matrix\n",
        "#let us get the predictions using the classifier we had fit above\n",
        "y_pred \u003d knn.predict(X_test)\n",
        "#confusion_matrix(y_test,y_pred)\n",
        "pd.crosstab(y_test, y_pred, rownames\u003d[\u0027True\u0027], colnames\u003d[\u0027Predicted\u0027], margins\u003dTrue)"
      ]
    },
    {
      "cell_type": "code",
      "execution_count": 112,
      "metadata": {
        "_uuid": "6ac998149c1f0dd304b807707f0dc44dd2b2ffb3",
        "pycharm": {}
      },
      "outputs": [
        {
          "name": "stdout",
          "output_type": "stream",
          "text": [
            "              precision    recall  f1-score   support\n",
            "\n",
            "           0       0.79      0.87      0.83       167\n",
            "           1       0.69      0.56      0.62        89\n",
            "\n",
            "    accuracy                           0.76       256\n",
            "   macro avg       0.74      0.72      0.72       256\n",
            "weighted avg       0.76      0.76      0.75       256\n",
            "\n"
          ]
        }
      ],
      "source": [
        "#import classification_report\n",
        "from sklearn.metrics import classification_report\n",
        "print(classification_report(y_test,y_pred))"
      ]
    },
    {
      "cell_type": "code",
      "execution_count": null,
      "metadata": {
        "pycharm": {}
      },
      "outputs": [],
      "source": []
    },
    {
      "cell_type": "code",
      "execution_count": 117,
      "metadata": {
        "_uuid": "20b2083d2eaf2fca599eb6f2ef8803be0b1ac5d7",
        "pycharm": {}
      },
      "outputs": [],
      "source": [
        "from sklearn.metrics import roc_curve\n",
        "y_pred_proba \u003d knn.predict_proba(X_test)[:,1]\n",
        "fpr2, tpr2, thresholds \u003d roc_curve(y_test, y_pred_proba)"
      ]
    },
    {
      "cell_type": "code",
      "execution_count": 120,
      "metadata": {
        "_uuid": "379eefad0181f1f57ffbb3634ab6d132af17464f",
        "pycharm": {}
      },
      "outputs": [
        {
          "data": {
            "image/png": "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\u003d\u003d\n",
            "text/plain": [
              "\u003cFigure size 432x288 with 1 Axes\u003e"
            ]
          },
          "metadata": {
            "needs_background": "light"
          },
          "output_type": "display_data"
        }
      ],
      "source": [
        "plt.plot([0,1],[0,1],\u0027k--\u0027)\n",
        "plt.plot(fpr,tpr, label\u003d\u0027Knn\u0027)\n",
        "plt.xlabel(\u0027fpr2\u0027)\n",
        "plt.ylabel(\u0027tpr2\u0027)\n",
        "plt.title(\u0027Knn(n_neighbors\u003d11) ROC curve\u0027)\n",
        "plt.show()"
      ]
    },
    {
      "cell_type": "code",
      "execution_count": 119,
      "metadata": {
        "_uuid": "6c92773e49532f6133b23d511058202bb77ff2cd",
        "pycharm": {}
      },
      "outputs": [
        {
          "data": {
            "text/plain": [
              "0.8042454417008679"
            ]
          },
          "execution_count": 119,
          "metadata": {},
          "output_type": "execute_result"
        }
      ],
      "source": [
        "#Area under ROC curve\n",
        "from sklearn.metrics import roc_auc_score\n",
        "roc_auc_score(y_test,y_pred_proba)"
      ]
    },
    {
      "cell_type": "code",
      "execution_count": null,
      "metadata": {
        "_uuid": "e369c794253b71d3daa1444fb7d11872fb8a110c",
        "pycharm": {}
      },
      "outputs": [],
      "source": [
        "#import GridSearchCV\n",
        "from sklearn.model_selection import GridSearchCV\n",
        "#In case of classifier like knn the parameter to be tuned is n_neighbors\n",
        "param_grid \u003d {\u0027n_neighbors\u0027:np.arange(1,50)}\n",
        "knn \u003d KNeighborsClassifier()\n",
        "knn_cv\u003d GridSearchCV(knn,param_grid,cv\u003d5)\n",
        "knn_cv.fit(X_train,y_train)\n",
        "\n",
        "print(\"Best Score:\" + str(knn_cv.best_score_))\n",
        "print(\"Best Parameters: \" + str(knn_cv.best_params_))"
      ]
    },
    {
      "cell_type": "code",
      "execution_count": null,
      "metadata": {
        "pycharm": {}
      },
      "outputs": [],
      "source": []
    },
    {
      "cell_type": "markdown",
      "metadata": {
        "pycharm": {}
      },
      "source": [
        "# Naiive Bayes"
      ]
    },
    {
      "cell_type": "code",
      "execution_count": null,
      "metadata": {
        "pycharm": {}
      },
      "outputs": [],
      "source": [
        "from sklearn.naive_bayes import GaussianNB\n",
        "from sklearn.metrics import confusion_matrix"
      ]
    },
    {
      "cell_type": "code",
      "execution_count": null,
      "metadata": {
        "pycharm": {}
      },
      "outputs": [],
      "source": [
        "# Initiating the Gaussian Classifier\n",
        "mod \u003d GaussianNB()"
      ]
    },
    {
      "cell_type": "code",
      "execution_count": null,
      "metadata": {
        "pycharm": {}
      },
      "outputs": [],
      "source": [
        "# Training your model \n",
        "mod.fit(X_train, y_train)"
      ]
    },
    {
      "cell_type": "code",
      "execution_count": null,
      "metadata": {
        "pycharm": {}
      },
      "outputs": [],
      "source": [
        "# Predicting Outcome \n",
        "predicted \u003d mod.predict(X_test)"
      ]
    },
    {
      "cell_type": "code",
      "execution_count": null,
      "metadata": {
        "pycharm": {}
      },
      "outputs": [],
      "source": [
        "mod.score(X_test,y_test)"
      ]
    },
    {
      "cell_type": "code",
      "execution_count": null,
      "metadata": {
        "pycharm": {}
      },
      "outputs": [],
      "source": [
        "# Confusion Matrix\n",
        "y_pred \u003d mod.predict(X_test)\n",
        "print(confusion_matrix(y_test, y_pred))  \n",
        "print(classification_report(y_test, y_pred)) "
      ]
    },
    {
      "cell_type": "code",
      "execution_count": 126,
      "metadata": {
        "pycharm": {}
      },
      "outputs": [
        {
          "data": {
            "image/png": "[encoded data removed]",
            "text/plain": [
              "\u003cFigure size 432x288 with 1 Axes\u003e"
            ]
          },
          "metadata": {
            "needs_background": "light"
          },
          "output_type": "display_data"
        }
      ],
      "source": [
        "from sklearn.metrics import roc_curve\n",
        "y_pred_proba \u003d mod.predict_proba(X_test)[:,1]\n",
        "fpr3, tpr3, thresholds \u003d roc_curve(y_test, y_pred_proba)\n",
        "\n",
        "plt.plot([0,1],[0,1],\u0027k--\u0027)\n",
        "plt.plot(fpr,tpr, label\u003d\u0027Naiive Bayes\u0027)\n",
        "plt.xlabel(\u0027fpr\u0027)\n",
        "plt.ylabel(\u0027tpr\u0027)\n",
        "plt.title(\u0027Naiive Bayes ROC curve\u0027)\n",
        "plt.show()"
      ]
    },
    {
      "cell_type": "code",
      "execution_count": null,
      "metadata": {
        "pycharm": {}
      },
      "outputs": [],
      "source": [
        "# You can compare the performance of multiple models in one ROC chart. Wrtie your own codes in the cells below."
      ]
    },
    {
      "cell_type": "code",
      "execution_count": 131,
      "metadata": {
        "pycharm": {}
      },
      "outputs": [
        {
          "data": {
            "image/png": "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\u003d\u003d\n",
            "text/plain": [
              "\u003cFigure size 432x288 with 1 Axes\u003e"
            ]
          },
          "metadata": {
            "needs_background": "light"
          },
          "output_type": "display_data"
        }
      ],
      "source": [
        "plt.plot(fpr1,tpr1,label\u003d\"Log Regression, auc\u003d\"+str(auc))\n",
        "plt.plot([0,1],[0,1],\u0027k--\u0027)\n",
        "\n",
        "plt.plot([0,1],[0,1],\u0027k--\u0027)\n",
        "plt.plot(fpr2,tpr2, label\u003d\u0027Knn\u0027)\n",
        "\n",
        "plt.plot([0,1],[0,1],\u0027k--\u0027)\n",
        "plt.plot(fpr3,tpr3, label\u003d\u0027Naiive Bayes\u0027)\n",
        "\n",
        "plt.xlabel(\u0027fpr\u0027)\n",
        "plt.ylabel(\u0027tpr\u0027)\n",
        "plt.title(\u0027 ROC curve\u0027)\n",
        "\n",
        "plt.legend(loc\u003d4)\n",
        "plt.show()"
      ]
    },
    {
      "cell_type": "code",
      "execution_count": null,
      "metadata": {
        "pycharm": {}
      },
      "outputs": [],
      "source": []
    },
    {
      "cell_type": "code",
      "execution_count": null,
      "metadata": {
        "pycharm": {}
      },
      "outputs": [],
      "source": []
    }
  ],
  "metadata": {
    "kernelspec": {
      "display_name": "Python 3",
      "language": "python",
      "name": "python3"
    },
    "language_info": {
      "codemirror_mode": {
        "name": "ipython",
        "version": 3
      },
      "file_extension": ".py",
      "mimetype": "text/x-python",
      "name": "python",
      "nbconvert_exporter": "python",
      "pygments_lexer": "ipython3",
      "version": "3.7.2"
    }
  },
  "nbformat": 4,
  "nbformat_minor": 1
}